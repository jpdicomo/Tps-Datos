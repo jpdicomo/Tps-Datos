{
 "cells": [
  {
   "cell_type": "code",
   "execution_count": 2,
   "metadata": {},
   "outputs": [],
   "source": [
    "from sklearn.tree import DecisionTreeClassifier\n",
    "import pandas as pd\n",
    "import numpy as np\n",
    "import seaborn as sns\n",
    "import matplotlib.pyplot as plt \n",
    "from sklearn.model_selection import train_test_split\n",
    "from sklearn.ensemble import RandomForestClassifier\n",
    "from sklearn.inspection import permutation_importance\n",
    "train_values = pd.read_csv('train_values.csv', dtype= {'building_id': np.int32,\\\n",
    "                                              'geo_level_1_id': np.int8,\\\n",
    "                                              'geo_level_2_id': np.int16,\\\n",
    "                                              'geo_level_3_id': np.int16,\\\n",
    "                                              'count_floors_pre_eq': np.int16,\\\n",
    "                                              'age': np.int16,\\\n",
    "                                              'area_percentage': np.int8,\\\n",
    "                                              'height_percentage': np.int8,\\\n",
    "                                              'land_surface_condition': 'category',\\\n",
    "                                              'foundation_type': 'category',\\\n",
    "                                              'roof_type': 'category',\\\n",
    "                                              'ground_floor_type':'category',\\\n",
    "                                              'other_floor_type': 'category',\\\n",
    "                                              'position': 'category',\\\n",
    "                                              'plan_configuration':'category',\\\n",
    "                                              'has_superstructure_adobe_mud':'boolean',\\\n",
    "                                              'has_superstructure_mud_mortar_stone':'boolean',\\\n",
    "                                              'has_superstructure_stone_flag':'boolean',\\\n",
    "                                              'has_superstructure_cement_mortar_stone':'boolean',\\\n",
    "                                              'has_superstructure_mud_mortar_brick':'boolean',\\\n",
    "                                              'has_superstructure_cement_mortar_brick':'boolean',\\\n",
    "                                              'has_superstructure_timber':'boolean',\\\n",
    "                                              'has_superstructure_bamboo':'boolean',\\\n",
    "                                              'has_superstructure_rc_non_engineered':'boolean',\\\n",
    "                                              'has_superstructure_rc_engineered':'boolean',\\\n",
    "                                              'has_superstructure_other':'boolean',\\\n",
    "                                              'legal_ownership_status':'category',\\\n",
    "                                              'count_families': np.int16,\\\n",
    "                                              'has_secondary_use':'boolean',\\\n",
    "                                              'has_secondary_use_agriculture':'boolean',\\\n",
    "                                              'has_secondary_use_hotel':'boolean',\\\n",
    "                                              'has_secondary_use_rental':'boolean',\\\n",
    "                                              'has_secondary_use_institution':'boolean',\\\n",
    "                                              'has_secondary_use_school':'boolean',\\\n",
    "                                              'has_secondary_use_industry':'boolean',\\\n",
    "                                              'has_secondary_use_health_post':'boolean',\\\n",
    "                                              'has_secondary_use_gov_office':'boolean',\\\n",
    "                                              'has_secondary_use_use_police':'boolean',\\\n",
    "                                              'has_secondary_use_other':'boolean'\n",
    "                                              })\n",
    "train_labels = pd.read_csv(\"train_labels.csv\")\n",
    "test_values = pd.read_csv(\"test_values.csv\")\n"
   ]
  },
  {
   "cell_type": "code",
   "execution_count": null,
   "metadata": {},
   "outputs": [],
   "source": []
  },
  {
   "cell_type": "code",
   "execution_count": null,
   "metadata": {},
   "outputs": [],
   "source": []
  },
  {
   "cell_type": "code",
   "execution_count": null,
   "metadata": {},
   "outputs": [],
   "source": []
  },
  {
   "cell_type": "code",
   "execution_count": null,
   "metadata": {},
   "outputs": [],
   "source": []
  },
  {
   "cell_type": "code",
   "execution_count": null,
   "metadata": {},
   "outputs": [],
   "source": []
  },
  {
   "cell_type": "code",
   "execution_count": null,
   "metadata": {},
   "outputs": [],
   "source": []
  }
 ],
 "metadata": {
  "kernelspec": {
   "display_name": "Python 3",
   "language": "python",
   "name": "python3"
  },
  "language_info": {
   "codemirror_mode": {
    "name": "ipython",
    "version": 3
   },
   "file_extension": ".py",
   "mimetype": "text/x-python",
   "name": "python",
   "nbconvert_exporter": "python",
   "pygments_lexer": "ipython3",
   "version": "3.8.5"
  }
 },
 "nbformat": 4,
 "nbformat_minor": 4
}
