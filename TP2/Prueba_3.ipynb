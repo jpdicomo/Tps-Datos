{
 "cells": [
  {
   "cell_type": "code",
   "execution_count": 1,
   "metadata": {},
   "outputs": [],
   "source": [
    "from sklearn.model_selection import GridSearchCV\n",
    "from sklearn.tree import DecisionTreeClassifier\n",
    "import pandas as pd\n",
    "import numpy as np\n",
    "import seaborn as sns\n",
    "import matplotlib.pyplot as plt \n",
    "from sklearn.model_selection import train_test_split\n",
    "from sklearn.ensemble import RandomForestClassifier"
   ]
  },
  {
   "cell_type": "code",
   "execution_count": 2,
   "metadata": {},
   "outputs": [],
   "source": [
    "train_values = pd.read_csv('train_values.csv', dtype= {'building_id': np.int32,\\\n",
    "                                              'geo_level_1_id': np.int8,\\\n",
    "                                              'geo_level_2_id': np.int16,\\\n",
    "                                              'geo_level_3_id': np.int16,\\\n",
    "                                              'count_floors_pre_eq': np.int16,\\\n",
    "                                              'age': np.int16,\\\n",
    "                                              'area_percentage': np.int8,\\\n",
    "                                              'height_percentage': np.int8,\\\n",
    "                                              'land_surface_condition': 'category',\\\n",
    "                                              'foundation_type': 'category',\\\n",
    "                                              'roof_type': 'category',\\\n",
    "                                              'ground_floor_type':'category',\\\n",
    "                                              'other_floor_type': 'category',\\\n",
    "                                              'position': 'category',\\\n",
    "                                              'plan_configuration':'category',\\\n",
    "                                              'has_superstructure_adobe_mud':'boolean',\\\n",
    "                                              'has_superstructure_mud_mortar_stone':'boolean',\\\n",
    "                                              'has_superstructure_stone_flag':'boolean',\\\n",
    "                                              'has_superstructure_cement_mortar_stone':'boolean',\\\n",
    "                                              'has_superstructure_mud_mortar_brick':'boolean',\\\n",
    "                                              'has_superstructure_cement_mortar_brick':'boolean',\\\n",
    "                                              'has_superstructure_timber':'boolean',\\\n",
    "                                              'has_superstructure_bamboo':'boolean',\\\n",
    "                                              'has_superstructure_rc_non_engineered':'boolean',\\\n",
    "                                              'has_superstructure_rc_engineered':'boolean',\\\n",
    "                                              'has_superstructure_other':'boolean',\\\n",
    "                                              'legal_ownership_status':'category',\\\n",
    "                                              'count_families': np.int16,\\\n",
    "                                              'has_secondary_use':'boolean',\\\n",
    "                                              'has_secondary_use_agriculture':'boolean',\\\n",
    "                                              'has_secondary_use_hotel':'boolean',\\\n",
    "                                              'has_secondary_use_rental':'boolean',\\\n",
    "                                              'has_secondary_use_institution':'boolean',\\\n",
    "                                              'has_secondary_use_school':'boolean',\\\n",
    "                                              'has_secondary_use_industry':'boolean',\\\n",
    "                                              'has_secondary_use_health_post':'boolean',\\\n",
    "                                              'has_secondary_use_gov_office':'boolean',\\\n",
    "                                              'has_secondary_use_use_police':'boolean',\\\n",
    "                                              'has_secondary_use_other':'boolean'\n",
    "                                              })\n",
    "train_labels = pd.read_csv(\"train_labels.csv\")\n",
    "test_values = pd.read_csv(\"test_values.csv\")"
   ]
  },
  {
   "cell_type": "code",
   "execution_count": 3,
   "metadata": {},
   "outputs": [],
   "source": [
    "train_values_1 = train_values.loc[:,[\"building_id\",\"geo_level_2_id\",\"age\",\"foundation_type\",\"land_surface_condition\",\"ground_floor_type\"]]"
   ]
  },
  {
   "cell_type": "code",
   "execution_count": 4,
   "metadata": {},
   "outputs": [],
   "source": [
    "train = train_values_1.merge(train_labels,on = \"building_id\")"
   ]
  },
  {
   "cell_type": "code",
   "execution_count": 5,
   "metadata": {},
   "outputs": [],
   "source": [
    "x_pre = pd.get_dummies(train_values).set_index('building_id')\n",
    "y_pre = train_labels.loc[:,'damage_grade']\n",
    "\n",
    "x = x_pre\n",
    "y = y_pre\n",
    "x_train, x_test, y_train, y_test = train_test_split(x, y, test_size = 0.2, random_state = 42)"
   ]
  },
  {
   "cell_type": "code",
   "execution_count": 6,
   "metadata": {},
   "outputs": [
    {
     "data": {
      "text/plain": [
       "GridSearchCV(cv=5, estimator=RandomForestClassifier(), n_jobs=-1,\n",
       "             param_grid={'min_samples_split': [20, 50, 250, 500],\n",
       "                         'n_estimators': [100, 250, 500, 1000]},\n",
       "             scoring='f1_micro')"
      ]
     },
     "execution_count": 6,
     "metadata": {},
     "output_type": "execute_result"
    }
   ],
   "source": [
    "hiper = {'n_estimators': [100, 250, 500, 1000], \n",
    "'min_samples_split':[20, 50, 250, 500]}\n",
    "rf_clf = RandomForestClassifier()\n",
    "gd_sr = GridSearchCV(rf_clf,param_grid=hiper,scoring='f1_micro',cv=5,n_jobs=-1)\n",
    "gd_sr.fit(x_train, y_train)"
   ]
  },
  {
   "cell_type": "code",
   "execution_count": 7,
   "metadata": {},
   "outputs": [
    {
     "data": {
      "text/plain": [
       "0.719373561013047"
      ]
     },
     "execution_count": 7,
     "metadata": {},
     "output_type": "execute_result"
    }
   ],
   "source": [
    "gd_sr.best_score_"
   ]
  },
  {
   "cell_type": "code",
   "execution_count": 8,
   "metadata": {},
   "outputs": [
    {
     "data": {
      "text/plain": [
       "{'min_samples_split': 20, 'n_estimators': 1000}"
      ]
     },
     "execution_count": 8,
     "metadata": {},
     "output_type": "execute_result"
    }
   ],
   "source": [
    "gd_sr.best_params_"
   ]
  },
  {
   "cell_type": "code",
   "execution_count": 10,
   "metadata": {},
   "outputs": [
    {
     "name": "stdout",
     "output_type": "stream",
     "text": [
      "Training Score: 0.8247793553338449\n",
      "Test Score: 0.7234895723412827\n"
     ]
    }
   ],
   "source": [
    "rf = RandomForestClassifier(min_samples_split = gd_sr.best_params_[\"min_samples_split\"],\\\n",
    "                            n_estimators = gd_sr.best_params_[\"n_estimators\"])\n",
    "model = rf.fit(x_train, y_train)\n",
    "\n",
    "model.predict(x_test)\n",
    "print(\"Training Score: {}\".format(rf.score(x_train, y_train)))\n",
    "print(\"Test Score: {}\".format(rf.score(x_test, y_test)))"
   ]
  },
  {
   "cell_type": "code",
   "execution_count": null,
   "metadata": {},
   "outputs": [],
   "source": []
  },
  {
   "cell_type": "code",
   "execution_count": null,
   "metadata": {},
   "outputs": [],
   "source": []
  }
 ],
 "metadata": {
  "kernelspec": {
   "display_name": "Python 3",
   "language": "python",
   "name": "python3"
  },
  "language_info": {
   "codemirror_mode": {
    "name": "ipython",
    "version": 3
   },
   "file_extension": ".py",
   "mimetype": "text/x-python",
   "name": "python",
   "nbconvert_exporter": "python",
   "pygments_lexer": "ipython3",
   "version": "3.8.10"
  }
 },
 "nbformat": 4,
 "nbformat_minor": 4
}
