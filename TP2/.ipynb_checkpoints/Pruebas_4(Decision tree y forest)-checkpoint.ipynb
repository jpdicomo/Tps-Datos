{
 "cells": [
  {
   "cell_type": "code",
   "execution_count": 1,
   "metadata": {},
   "outputs": [],
   "source": [
    "from sklearn.model_selection import GridSearchCV\n",
    "from sklearn.tree import DecisionTreeClassifier\n",
    "import pandas as pd\n",
    "import numpy as np\n",
    "import seaborn as sns\n",
    "import matplotlib.pyplot as plt \n",
    "from sklearn.model_selection import train_test_split\n",
    "from sklearn.ensemble import RandomForestClassifier\n",
    "from sklearn.inspection import permutation_importance"
   ]
  },
  {
   "cell_type": "code",
   "execution_count": 2,
   "metadata": {},
   "outputs": [],
   "source": [
    "train_values = pd.read_csv('train_values.csv', dtype= {'building_id': np.int32,\\\n",
    "                                              'geo_level_1_id': np.int8,\\\n",
    "                                              'geo_level_2_id': np.int16,\\\n",
    "                                              'geo_level_3_id': np.int16,\\\n",
    "                                              'count_floors_pre_eq': np.int16,\\\n",
    "                                              'age': np.int16,\\\n",
    "                                              'area_percentage': np.int8,\\\n",
    "                                              'height_percentage': np.int8,\\\n",
    "                                              'land_surface_condition': 'category',\\\n",
    "                                              'foundation_type': 'category',\\\n",
    "                                              'roof_type': 'category',\\\n",
    "                                              'ground_floor_type':'category',\\\n",
    "                                              'other_floor_type': 'category',\\\n",
    "                                              'position': 'category',\\\n",
    "                                              'plan_configuration':'category',\\\n",
    "                                              'has_superstructure_adobe_mud':'boolean',\\\n",
    "                                              'has_superstructure_mud_mortar_stone':'boolean',\\\n",
    "                                              'has_superstructure_stone_flag':'boolean',\\\n",
    "                                              'has_superstructure_cement_mortar_stone':'boolean',\\\n",
    "                                              'has_superstructure_mud_mortar_brick':'boolean',\\\n",
    "                                              'has_superstructure_cement_mortar_brick':'boolean',\\\n",
    "                                              'has_superstructure_timber':'boolean',\\\n",
    "                                              'has_superstructure_bamboo':'boolean',\\\n",
    "                                              'has_superstructure_rc_non_engineered':'boolean',\\\n",
    "                                              'has_superstructure_rc_engineered':'boolean',\\\n",
    "                                              'has_superstructure_other':'boolean',\\\n",
    "                                              'legal_ownership_status':'category',\\\n",
    "                                              'count_families': np.int16,\\\n",
    "                                              'has_secondary_use':'boolean',\\\n",
    "                                              'has_secondary_use_agriculture':'boolean',\\\n",
    "                                              'has_secondary_use_hotel':'boolean',\\\n",
    "                                              'has_secondary_use_rental':'boolean',\\\n",
    "                                              'has_secondary_use_institution':'boolean',\\\n",
    "                                              'has_secondary_use_school':'boolean',\\\n",
    "                                              'has_secondary_use_industry':'boolean',\\\n",
    "                                              'has_secondary_use_health_post':'boolean',\\\n",
    "                                              'has_secondary_use_gov_office':'boolean',\\\n",
    "                                              'has_secondary_use_use_police':'boolean',\\\n",
    "                                              'has_secondary_use_other':'boolean'\n",
    "                                              })\n",
    "train_labels = pd.read_csv(\"train_labels.csv\")\n",
    "test_values = pd.read_csv(\"test_values.csv\")"
   ]
  },
  {
   "cell_type": "code",
   "execution_count": 3,
   "metadata": {},
   "outputs": [],
   "source": [
    "train = train_values.merge(train_labels,on = \"building_id\")"
   ]
  },
  {
   "cell_type": "code",
   "execution_count": 4,
   "metadata": {},
   "outputs": [],
   "source": [
    "x_pre = pd.get_dummies(train_values).set_index('building_id')\n",
    "y_pre = train_labels.loc[:,'damage_grade']\n",
    "\n",
    "x = x_pre\n",
    "y = y_pre\n",
    "x_train, x_test, y_train, y_test = train_test_split(x, y, test_size = 0.2, random_state = 42)"
   ]
  },
  {
   "cell_type": "code",
   "execution_count": 5,
   "metadata": {},
   "outputs": [
    {
     "data": {
      "text/plain": [
       "GridSearchCV(cv=5, estimator=DecisionTreeClassifier(), n_jobs=-1,\n",
       "             param_grid={'criterion': ['entropy', 'gini'],\n",
       "                         'max_features': [<class 'int'>, 'log2'],\n",
       "                         'min_samples_split': range(2, 40, 5),\n",
       "                         'splitter': ['best', 'random']},\n",
       "             scoring='f1_micro')"
      ]
     },
     "execution_count": 5,
     "metadata": {},
     "output_type": "execute_result"
    }
   ],
   "source": [
    "hiper = {\"criterion\":[\"entropy\",\"gini\"],\"splitter\":[\"best\",\"random\"],\"min_samples_split\":range(2,40,5)\\\n",
    "         ,\"max_features\":[int,\"log2\"]}\n",
    "dt_clf = DecisionTreeClassifier()\n",
    "gd_sr = GridSearchCV(dt_clf,param_grid=hiper,scoring='f1_micro',cv=5,n_jobs=-1)\n",
    "gd_sr.fit(x_train, y_train)"
   ]
  },
  {
   "cell_type": "code",
   "execution_count": 6,
   "metadata": {},
   "outputs": [
    {
     "data": {
      "text/plain": [
       "0.6483211818879508"
      ]
     },
     "execution_count": 6,
     "metadata": {},
     "output_type": "execute_result"
    }
   ],
   "source": [
    "gd_sr.best_score_"
   ]
  },
  {
   "cell_type": "code",
   "execution_count": 7,
   "metadata": {
    "scrolled": true
   },
   "outputs": [
    {
     "data": {
      "text/plain": [
       "{'criterion': 'gini',\n",
       " 'max_features': 'log2',\n",
       " 'min_samples_split': 37,\n",
       " 'splitter': 'best'}"
      ]
     },
     "execution_count": 7,
     "metadata": {},
     "output_type": "execute_result"
    }
   ],
   "source": [
    "gd_sr.best_params_"
   ]
  },
  {
   "cell_type": "code",
   "execution_count": 15,
   "metadata": {
    "scrolled": true
   },
   "outputs": [
    {
     "ename": "ValueError",
     "evalue": "Parameter values for parameter (max_depth) need to be a non-empty sequence.",
     "output_type": "error",
     "traceback": [
      "\u001b[1;31m---------------------------------------------------------------------------\u001b[0m",
      "\u001b[1;31mValueError\u001b[0m                                Traceback (most recent call last)",
      "\u001b[1;32m<ipython-input-15-84028a04db6f>\u001b[0m in \u001b[0;36m<module>\u001b[1;34m\u001b[0m\n\u001b[0;32m      3\u001b[0m         ,}\n\u001b[0;32m      4\u001b[0m \u001b[0mdt_clf\u001b[0m \u001b[1;33m=\u001b[0m \u001b[0mDecisionTreeClassifier\u001b[0m\u001b[1;33m(\u001b[0m\u001b[1;33m)\u001b[0m\u001b[1;33m\u001b[0m\u001b[1;33m\u001b[0m\u001b[0m\n\u001b[1;32m----> 5\u001b[1;33m \u001b[0mgd_sr\u001b[0m \u001b[1;33m=\u001b[0m \u001b[0mGridSearchCV\u001b[0m\u001b[1;33m(\u001b[0m\u001b[0mdt_clf\u001b[0m\u001b[1;33m,\u001b[0m\u001b[0mparam_grid\u001b[0m\u001b[1;33m=\u001b[0m\u001b[0mhiper\u001b[0m\u001b[1;33m,\u001b[0m\u001b[0mscoring\u001b[0m\u001b[1;33m=\u001b[0m\u001b[1;34m'f1_micro'\u001b[0m\u001b[1;33m,\u001b[0m\u001b[0mcv\u001b[0m\u001b[1;33m=\u001b[0m\u001b[1;36m5\u001b[0m\u001b[1;33m,\u001b[0m\u001b[0mn_jobs\u001b[0m\u001b[1;33m=\u001b[0m\u001b[1;33m-\u001b[0m\u001b[1;36m1\u001b[0m\u001b[1;33m)\u001b[0m\u001b[1;33m\u001b[0m\u001b[1;33m\u001b[0m\u001b[0m\n\u001b[0m",
      "\u001b[1;32m~\\anaconda3\\lib\\site-packages\\sklearn\\utils\\validation.py\u001b[0m in \u001b[0;36minner_f\u001b[1;34m(*args, **kwargs)\u001b[0m\n\u001b[0;32m     70\u001b[0m                           FutureWarning)\n\u001b[0;32m     71\u001b[0m         \u001b[0mkwargs\u001b[0m\u001b[1;33m.\u001b[0m\u001b[0mupdate\u001b[0m\u001b[1;33m(\u001b[0m\u001b[1;33m{\u001b[0m\u001b[0mk\u001b[0m\u001b[1;33m:\u001b[0m \u001b[0marg\u001b[0m \u001b[1;32mfor\u001b[0m \u001b[0mk\u001b[0m\u001b[1;33m,\u001b[0m \u001b[0marg\u001b[0m \u001b[1;32min\u001b[0m \u001b[0mzip\u001b[0m\u001b[1;33m(\u001b[0m\u001b[0msig\u001b[0m\u001b[1;33m.\u001b[0m\u001b[0mparameters\u001b[0m\u001b[1;33m,\u001b[0m \u001b[0margs\u001b[0m\u001b[1;33m)\u001b[0m\u001b[1;33m}\u001b[0m\u001b[1;33m)\u001b[0m\u001b[1;33m\u001b[0m\u001b[1;33m\u001b[0m\u001b[0m\n\u001b[1;32m---> 72\u001b[1;33m         \u001b[1;32mreturn\u001b[0m \u001b[0mf\u001b[0m\u001b[1;33m(\u001b[0m\u001b[1;33m**\u001b[0m\u001b[0mkwargs\u001b[0m\u001b[1;33m)\u001b[0m\u001b[1;33m\u001b[0m\u001b[1;33m\u001b[0m\u001b[0m\n\u001b[0m\u001b[0;32m     73\u001b[0m     \u001b[1;32mreturn\u001b[0m \u001b[0minner_f\u001b[0m\u001b[1;33m\u001b[0m\u001b[1;33m\u001b[0m\u001b[0m\n\u001b[0;32m     74\u001b[0m \u001b[1;33m\u001b[0m\u001b[0m\n",
      "\u001b[1;32m~\\anaconda3\\lib\\site-packages\\sklearn\\model_selection\\_search.py\u001b[0m in \u001b[0;36m__init__\u001b[1;34m(self, estimator, param_grid, scoring, n_jobs, iid, refit, cv, verbose, pre_dispatch, error_score, return_train_score)\u001b[0m\n\u001b[0;32m   1182\u001b[0m             return_train_score=return_train_score)\n\u001b[0;32m   1183\u001b[0m         \u001b[0mself\u001b[0m\u001b[1;33m.\u001b[0m\u001b[0mparam_grid\u001b[0m \u001b[1;33m=\u001b[0m \u001b[0mparam_grid\u001b[0m\u001b[1;33m\u001b[0m\u001b[1;33m\u001b[0m\u001b[0m\n\u001b[1;32m-> 1184\u001b[1;33m         \u001b[0m_check_param_grid\u001b[0m\u001b[1;33m(\u001b[0m\u001b[0mparam_grid\u001b[0m\u001b[1;33m)\u001b[0m\u001b[1;33m\u001b[0m\u001b[1;33m\u001b[0m\u001b[0m\n\u001b[0m\u001b[0;32m   1185\u001b[0m \u001b[1;33m\u001b[0m\u001b[0m\n\u001b[0;32m   1186\u001b[0m     \u001b[1;32mdef\u001b[0m \u001b[0m_run_search\u001b[0m\u001b[1;33m(\u001b[0m\u001b[0mself\u001b[0m\u001b[1;33m,\u001b[0m \u001b[0mevaluate_candidates\u001b[0m\u001b[1;33m)\u001b[0m\u001b[1;33m:\u001b[0m\u001b[1;33m\u001b[0m\u001b[1;33m\u001b[0m\u001b[0m\n",
      "\u001b[1;32m~\\anaconda3\\lib\\site-packages\\sklearn\\model_selection\\_search.py\u001b[0m in \u001b[0;36m_check_param_grid\u001b[1;34m(param_grid)\u001b[0m\n\u001b[0;32m    394\u001b[0m \u001b[1;33m\u001b[0m\u001b[0m\n\u001b[0;32m    395\u001b[0m             \u001b[1;32mif\u001b[0m \u001b[0mlen\u001b[0m\u001b[1;33m(\u001b[0m\u001b[0mv\u001b[0m\u001b[1;33m)\u001b[0m \u001b[1;33m==\u001b[0m \u001b[1;36m0\u001b[0m\u001b[1;33m:\u001b[0m\u001b[1;33m\u001b[0m\u001b[1;33m\u001b[0m\u001b[0m\n\u001b[1;32m--> 396\u001b[1;33m                 raise ValueError(\"Parameter values for parameter ({0}) need \"\n\u001b[0m\u001b[0;32m    397\u001b[0m                                  \"to be a non-empty sequence.\".format(name))\n\u001b[0;32m    398\u001b[0m \u001b[1;33m\u001b[0m\u001b[0m\n",
      "\u001b[1;31mValueError\u001b[0m: Parameter values for parameter (max_depth) need to be a non-empty sequence."
     ]
    }
   ],
   "source": [
    "hiper = {\"criterion\":[\"entropy\",\"gini\"],\"splitter\":[\"best\",\"random\"],\"min_samples_split\":range(37,70)\\\n",
    "         ,\"max_features\":[int,\"auto\",\"sqrt\",\"log2\"]}\n",
    "dt_clf = DecisionTreeClassifier()\n",
    "gd_sr = GridSearchCV(dt_clf,param_grid=hiper,scoring='f1_micro',cv=5,n_jobs=-1)"
   ]
  },
  {
   "cell_type": "code",
   "execution_count": 10,
   "metadata": {
    "scrolled": true
   },
   "outputs": [
    {
     "data": {
      "text/plain": [
       "0.6647160399079048"
      ]
     },
     "execution_count": 10,
     "metadata": {},
     "output_type": "execute_result"
    }
   ],
   "source": [
    "gd_sr.best_score_"
   ]
  },
  {
   "cell_type": "code",
   "execution_count": 11,
   "metadata": {},
   "outputs": [
    {
     "data": {
      "text/plain": [
       "{'criterion': 'gini',\n",
       " 'max_features': 'sqrt',\n",
       " 'min_samples_split': 57,\n",
       " 'splitter': 'best'}"
      ]
     },
     "execution_count": 11,
     "metadata": {},
     "output_type": "execute_result"
    }
   ],
   "source": [
    "gd_sr.best_params_"
   ]
  },
  {
   "cell_type": "code",
   "execution_count": 16,
   "metadata": {
    "scrolled": true
   },
   "outputs": [
    {
     "name": "stderr",
     "output_type": "stream",
     "text": [
      "C:\\Users\\jpdic\\anaconda3\\lib\\site-packages\\sklearn\\tree\\_classes.py:323: FutureWarning: The parameter 'presort' is deprecated and has no effect. It will be removed in v0.24. You can suppress this warning by not passing any value to the 'presort' parameter.\n",
      "  warnings.warn(\"The parameter 'presort' is deprecated and has no \"\n"
     ]
    },
    {
     "data": {
      "text/plain": [
       "GridSearchCV(cv=5, estimator=DecisionTreeClassifier(), n_jobs=-1,\n",
       "             param_grid={'criterion': ['entropy', 'gini'],\n",
       "                         'min_samples_split': range(57, 100),\n",
       "                         'presort': [True, False],\n",
       "                         'splitter': ['best', 'random']},\n",
       "             scoring='f1_micro')"
      ]
     },
     "execution_count": 16,
     "metadata": {},
     "output_type": "execute_result"
    }
   ],
   "source": [
    "hiper = {\"criterion\":[\"entropy\",\"gini\"],\"splitter\":[\"best\",\"random\"],\"min_samples_split\":range(57,100)\\\n",
    "         ,\"presort\" : [True, False]}\n",
    "dt_clf = DecisionTreeClassifier()\n",
    "gd_sr = GridSearchCV(dt_clf,param_grid=hiper,scoring='f1_micro',cv=5,n_jobs=-1)\n",
    "gd_sr.fit(x_train, y_train)"
   ]
  },
  {
   "cell_type": "code",
   "execution_count": 17,
   "metadata": {
    "scrolled": true
   },
   "outputs": [
    {
     "data": {
      "text/plain": [
       "0.7093678050652341"
      ]
     },
     "execution_count": 17,
     "metadata": {},
     "output_type": "execute_result"
    }
   ],
   "source": [
    "gd_sr.best_score_"
   ]
  },
  {
   "cell_type": "code",
   "execution_count": 18,
   "metadata": {
    "scrolled": true
   },
   "outputs": [
    {
     "data": {
      "text/plain": [
       "{'criterion': 'gini',\n",
       " 'min_samples_split': 99,\n",
       " 'presort': False,\n",
       " 'splitter': 'best'}"
      ]
     },
     "execution_count": 18,
     "metadata": {},
     "output_type": "execute_result"
    }
   ],
   "source": [
    "gd_sr.best_params_"
   ]
  },
  {
   "cell_type": "code",
   "execution_count": 19,
   "metadata": {},
   "outputs": [
    {
     "name": "stderr",
     "output_type": "stream",
     "text": [
      "C:\\Users\\jpdic\\anaconda3\\lib\\site-packages\\sklearn\\tree\\_classes.py:323: FutureWarning: The parameter 'presort' is deprecated and has no effect. It will be removed in v0.24. You can suppress this warning by not passing any value to the 'presort' parameter.\n",
      "  warnings.warn(\"The parameter 'presort' is deprecated and has no \"\n"
     ]
    },
    {
     "data": {
      "text/plain": [
       "GridSearchCV(cv=5, estimator=DecisionTreeClassifier(), n_jobs=-1,\n",
       "             param_grid={'criterion': ['entropy', 'gini'],\n",
       "                         'min_samples_split': range(99, 200),\n",
       "                         'presort': [True, False],\n",
       "                         'splitter': ['best', 'random']},\n",
       "             scoring='f1_micro')"
      ]
     },
     "execution_count": 19,
     "metadata": {},
     "output_type": "execute_result"
    }
   ],
   "source": [
    "hiper = {\"criterion\":[\"entropy\",\"gini\"],\"splitter\":[\"best\",\"random\"],\"min_samples_split\":range(99,200)\\\n",
    "         ,\"presort\": [True, False]}\n",
    "dt_clf = DecisionTreeClassifier()\n",
    "gd_sr = GridSearchCV(dt_clf,param_grid=hiper,scoring='f1_micro',cv=5,n_jobs=-1)\n",
    "gd_sr.fit(x_train, y_train)"
   ]
  },
  {
   "cell_type": "code",
   "execution_count": 20,
   "metadata": {},
   "outputs": [
    {
     "data": {
      "text/plain": [
       "0.7110226400613968"
      ]
     },
     "execution_count": 20,
     "metadata": {},
     "output_type": "execute_result"
    }
   ],
   "source": [
    "gd_sr.best_score_"
   ]
  },
  {
   "cell_type": "code",
   "execution_count": 21,
   "metadata": {},
   "outputs": [
    {
     "data": {
      "text/plain": [
       "{'criterion': 'gini',\n",
       " 'min_samples_split': 127,\n",
       " 'presort': True,\n",
       " 'splitter': 'best'}"
      ]
     },
     "execution_count": 21,
     "metadata": {},
     "output_type": "execute_result"
    }
   ],
   "source": [
    "gd_sr.best_params_"
   ]
  },
  {
   "cell_type": "code",
   "execution_count": 23,
   "metadata": {},
   "outputs": [
    {
     "name": "stderr",
     "output_type": "stream",
     "text": [
      "C:\\Users\\jpdic\\anaconda3\\lib\\site-packages\\sklearn\\tree\\_classes.py:323: FutureWarning: The parameter 'presort' is deprecated and has no effect. It will be removed in v0.24. You can suppress this warning by not passing any value to the 'presort' parameter.\n",
      "  warnings.warn(\"The parameter 'presort' is deprecated and has no \"\n"
     ]
    },
    {
     "name": "stdout",
     "output_type": "stream",
     "text": [
      "Training Score: 0.7494531849577897\n",
      "Test Score: 0.7131098789355538\n"
     ]
    }
   ],
   "source": [
    "dt = DecisionTreeClassifier(criterion = 'gini', min_samples_split= 127, splitter = 'best',presort = True)\n",
    "model = dt.fit(x_train, y_train)\n",
    "\n",
    "model.predict(x_test)\n",
    "print(\"Training Score: {}\".format(dt.score(x_train, y_train)))\n",
    "print(\"Test Score: {}\".format(dt.score(x_test, y_test)))"
   ]
  },
  {
   "cell_type": "code",
   "execution_count": 24,
   "metadata": {},
   "outputs": [],
   "source": [
    "results = permutation_importance(model, x_test, y_test, n_repeats = 10, random_state = 42, n_jobs = 2)"
   ]
  },
  {
   "cell_type": "code",
   "execution_count": 25,
   "metadata": {},
   "outputs": [
    {
     "name": "stdout",
     "output_type": "stream",
     "text": [
      "geo_level_1_id0.192 +/- 0.002\n",
      "geo_level_2_id0.086 +/- 0.001\n",
      "has_superstructure_mud_mortar_stone0.025 +/- 0.001\n",
      "geo_level_3_id0.023 +/- 0.001\n",
      "foundation_type_r0.023 +/- 0.001\n",
      "area_percentage0.009 +/- 0.001\n",
      "has_superstructure_cement_mortar_brick0.009 +/- 0.001\n",
      "other_floor_type_q0.009 +/- 0.000\n",
      "age     0.008 +/- 0.001\n",
      "height_percentage0.007 +/- 0.000\n",
      "foundation_type_i0.005 +/- 0.000\n",
      "has_superstructure_timber0.005 +/- 0.000\n",
      "roof_type_n0.005 +/- 0.000\n",
      "count_floors_pre_eq0.004 +/- 0.000\n",
      "roof_type_x0.004 +/- 0.000\n",
      "has_superstructure_mud_mortar_brick0.003 +/- 0.000\n",
      "position_s0.003 +/- 0.000\n",
      "ground_floor_type_f0.002 +/- 0.000\n",
      "other_floor_type_x0.002 +/- 0.000\n",
      "has_superstructure_adobe_mud0.002 +/- 0.000\n",
      "ground_floor_type_v0.002 +/- 0.000\n",
      "roof_type_q0.002 +/- 0.000\n",
      "has_secondary_use0.002 +/- 0.000\n",
      "foundation_type_u0.002 +/- 0.000\n",
      "land_surface_condition_t0.002 +/- 0.000\n",
      "count_families0.002 +/- 0.000\n",
      "has_superstructure_stone_flag0.001 +/- 0.000\n",
      "has_superstructure_bamboo0.001 +/- 0.000\n",
      "legal_ownership_status_v0.001 +/- 0.000\n",
      "other_floor_type_j0.001 +/- 0.000\n",
      "foundation_type_h0.001 +/- 0.000\n",
      "land_surface_condition_n0.001 +/- 0.000\n",
      "has_secondary_use_agriculture0.001 +/- 0.000\n",
      "ground_floor_type_x0.001 +/- 0.000\n",
      "other_floor_type_s0.001 +/- 0.000\n",
      "land_surface_condition_o0.001 +/- 0.000\n",
      "position_j0.000 +/- 0.000\n",
      "has_superstructure_other0.000 +/- 0.000\n",
      "foundation_type_w0.000 +/- 0.000\n",
      "has_secondary_use_hotel0.000 +/- 0.000\n",
      "has_superstructure_rc_non_engineered0.000 +/- 0.000\n",
      "has_superstructure_cement_mortar_stone0.000 +/- 0.000\n",
      "has_superstructure_rc_engineered0.000 +/- 0.000\n",
      "has_secondary_use_other0.000 +/- 0.000\n",
      "plan_configuration_q0.000 +/- 0.000\n",
      "plan_configuration_u0.000 +/- 0.000\n",
      "legal_ownership_status_w0.000 +/- 0.000\n",
      "position_o0.000 +/- 0.000\n",
      "plan_configuration_a0.000 +/- 0.000\n"
     ]
    }
   ],
   "source": [
    "for i in results.importances_mean.argsort()[::-1]:\n",
    "     if results.importances_mean[i] - 2 * results.importances_std[i] > 0:\n",
    "         print(f\"{x_pre.columns[i]:<8}\"\n",
    "               f\"{results.importances_mean[i]:.3f}\"\n",
    "               f\" +/- {results.importances_std[i]:.3f}\")"
   ]
  },
  {
   "cell_type": "code",
   "execution_count": 27,
   "metadata": {},
   "outputs": [
    {
     "name": "stdout",
     "output_type": "stream",
     "text": [
      "Training Score: 0.7307799309286263\n",
      "Test Score: 0.703344141516855\n"
     ]
    }
   ],
   "source": [
    "rf = RandomForestClassifier(min_samples_split= 127, n_estimators=500,criterion = \"gini\")\n",
    "model = rf.fit(x_train, y_train)\n",
    "\n",
    "model.predict(x_test)\n",
    "print(\"Training Score: {}\".format(rf.score(x_train, y_train)))\n",
    "print(\"Test Score: {}\".format(rf.score(x_test, y_test)))"
   ]
  },
  {
   "cell_type": "code",
   "execution_count": 28,
   "metadata": {},
   "outputs": [],
   "source": [
    "adropear = ['count_floors_pre_eq','has_secondary_use_agriculture','has_secondary_use_hotel',\n",
    "            'has_secondary_use_rental','has_secondary_use_institution',\n",
    "           'has_secondary_use_school','has_secondary_use_industry','has_secondary_use_health_post',\n",
    "            'has_secondary_use_gov_office','has_secondary_use_use_police','has_secondary_use_other',\n",
    "            'has_superstructure_bamboo','area_percentage','height_percentage']\n",
    "\n",
    "train_values['volume_percentage']=train_values['area_percentage']* train_values['height_percentage']\n",
    "\n",
    "train_values.drop(columns = adropear, inplace = True)"
   ]
  },
  {
   "cell_type": "code",
   "execution_count": 29,
   "metadata": {},
   "outputs": [],
   "source": [
    "columns_importances = [\"geo_level_1_id\",\n",
    "\"geo_level_2_id\",\n",
    "\"has_superstructure_mud_mortar_stone\",\n",
    "\"geo_level_3_id\",\n",
    "\"foundation_type_r\",\n",
    "\"volume_percentage\",\n",
    "\"other_floor_type_q\",\n",
    "\"has_superstructure_cement_mortar_brick\",\n",
    "\"age\",\n",
    "\"has_superstructure_timber\",\n",
    "\"foundation_type_i\",\n",
    "\"roof_type_n\",\n",
    "\"roof_type_x\",\n",
    "\"ground_floor_type_f\",\n",
    "\"roof_type_q\",\n",
    "\"has_secondary_use\",\n",
    "\"has_superstructure_mud_mortar_brick\",\n",
    "\"has_superstructure_adobe_mud\",\n",
    "\"other_floor_type_x\",\n",
    "\"has_superstructure_stone_flag\",\n",
    "\"position_s\",\n",
    "\"ground_floor_type_v\",\n",
    "\"building_id\"]"
   ]
  },
  {
   "cell_type": "code",
   "execution_count": 33,
   "metadata": {},
   "outputs": [
    {
     "data": {
      "text/plain": [
       "Index(['building_id', 'geo_level_1_id', 'geo_level_2_id', 'geo_level_3_id',\n",
       "       'age', 'has_superstructure_adobe_mud',\n",
       "       'has_superstructure_mud_mortar_stone', 'has_superstructure_stone_flag',\n",
       "       'has_superstructure_cement_mortar_stone',\n",
       "       'has_superstructure_mud_mortar_brick',\n",
       "       'has_superstructure_cement_mortar_brick', 'has_superstructure_timber',\n",
       "       'has_superstructure_rc_non_engineered',\n",
       "       'has_superstructure_rc_engineered', 'has_superstructure_other',\n",
       "       'count_families', 'has_secondary_use', 'volume_percentage',\n",
       "       'land_surface_condition_n', 'land_surface_condition_o',\n",
       "       'land_surface_condition_t', 'foundation_type_h', 'foundation_type_i',\n",
       "       'foundation_type_r', 'foundation_type_u', 'foundation_type_w',\n",
       "       'roof_type_n', 'roof_type_q', 'roof_type_x', 'ground_floor_type_f',\n",
       "       'ground_floor_type_m', 'ground_floor_type_v', 'ground_floor_type_x',\n",
       "       'ground_floor_type_z', 'other_floor_type_j', 'other_floor_type_q',\n",
       "       'other_floor_type_s', 'other_floor_type_x', 'position_j', 'position_o',\n",
       "       'position_s', 'position_t', 'plan_configuration_a',\n",
       "       'plan_configuration_c', 'plan_configuration_d', 'plan_configuration_f',\n",
       "       'plan_configuration_m', 'plan_configuration_n', 'plan_configuration_o',\n",
       "       'plan_configuration_q', 'plan_configuration_s', 'plan_configuration_u',\n",
       "       'legal_ownership_status_a', 'legal_ownership_status_r',\n",
       "       'legal_ownership_status_v', 'legal_ownership_status_w'],\n",
       "      dtype='object')"
      ]
     },
     "execution_count": 33,
     "metadata": {},
     "output_type": "execute_result"
    }
   ],
   "source": [
    "train_dummies = pd.get_dummies(train_values)\n",
    "train_dummies.columns"
   ]
  },
  {
   "cell_type": "code",
   "execution_count": 35,
   "metadata": {},
   "outputs": [],
   "source": [
    "train_importants = train_dummies.loc[:,columns_importances]"
   ]
  },
  {
   "cell_type": "code",
   "execution_count": 36,
   "metadata": {},
   "outputs": [],
   "source": [
    "x_pre = train_importants.set_index('building_id')\n",
    "y_pre = train_labels.loc[:,'damage_grade']\n",
    "x = x_pre\n",
    "y = y_pre\n",
    "x_train, x_test, y_train, y_test = train_test_split(x, y, test_size = 0.2, random_state = 42)"
   ]
  },
  {
   "cell_type": "code",
   "execution_count": 37,
   "metadata": {},
   "outputs": [
    {
     "name": "stdout",
     "output_type": "stream",
     "text": [
      "Training Score: 0.813416155026861\n",
      "Test Score: 0.7253122541777787\n"
     ]
    }
   ],
   "source": [
    "rf = RandomForestClassifier(min_samples_split= 20, n_estimators=500,criterion = \"gini\")\n",
    "model = rf.fit(x_train, y_train)\n",
    "\n",
    "model.predict(x_test)\n",
    "print(\"Training Score: {}\".format(rf.score(x_train, y_train)))\n",
    "print(\"Test Score: {}\".format(rf.score(x_test, y_test)))"
   ]
  },
  {
   "cell_type": "code",
   "execution_count": 44,
   "metadata": {},
   "outputs": [],
   "source": [
    "test_values[\"volume_percentage\"] = test_values[\"area_percentage\"] * test_values[\"height_percentage\"]\n",
    "test_values_subset = pd.get_dummies(test_values.drop(columns = adropear))\\\n",
    "                        .loc[:,columns_importances]\\\n",
    "                        .set_index('building_id')\n",
    "\n",
    "predictions = model.predict(test_values_subset)\n",
    "test_values_subset['damage_grade'] = predictions\n",
    "test_values_subset.loc[:,'damage_grade'].to_csv(\"submission_5.csv\")"
   ]
  },
  {
   "cell_type": "code",
   "execution_count": 38,
   "metadata": {},
   "outputs": [
    {
     "name": "stdout",
     "output_type": "stream",
     "text": [
      "Training Score: 0.8130851880276285\n",
      "Test Score: 0.7258302795418353\n"
     ]
    }
   ],
   "source": [
    "rf2 = RandomForestClassifier(min_samples_split= 20, n_estimators=250,criterion = \"gini\")\n",
    "model2 = rf2.fit(x_train, y_train)\n",
    "\n",
    "model2.predict(x_test)\n",
    "print(\"Training Score: {}\".format(rf2.score(x_train, y_train)))\n",
    "print(\"Test Score: {}\".format(rf2.score(x_test, y_test)))"
   ]
  },
  {
   "cell_type": "code",
   "execution_count": 50,
   "metadata": {},
   "outputs": [],
   "source": [
    "from sklearn.model_selection import RandomizedSearchCV"
   ]
  },
  {
   "cell_type": "code",
   "execution_count": 52,
   "metadata": {},
   "outputs": [],
   "source": [
    "hiper = {\"min_samples_split\": range(20,100,10), \"n_estimators\" : [100,250,500],\n",
    "         \"criterion\" : [\"gini\",\"entropy\"]}\n",
    "rf_clf = RandomForestClassifier()\n",
    "rn_sr = RandomizedSearchCV(rf_clf,param_distributions = hiper,scoring='f1_micro',cv=5,n_jobs=-1)"
   ]
  },
  {
   "cell_type": "code",
   "execution_count": 55,
   "metadata": {},
   "outputs": [],
   "source": [
    "search = rn_sr.fit(x_train, y_train)"
   ]
  },
  {
   "cell_type": "code",
   "execution_count": 56,
   "metadata": {},
   "outputs": [
    {
     "data": {
      "text/plain": [
       "0.719987528779739"
      ]
     },
     "execution_count": 56,
     "metadata": {},
     "output_type": "execute_result"
    }
   ],
   "source": [
    "search.best_score_"
   ]
  },
  {
   "cell_type": "code",
   "execution_count": 57,
   "metadata": {},
   "outputs": [
    {
     "data": {
      "text/plain": [
       "{'n_estimators': 100, 'min_samples_split': 20, 'criterion': 'gini'}"
      ]
     },
     "execution_count": 57,
     "metadata": {},
     "output_type": "execute_result"
    }
   ],
   "source": [
    "search.best_params_"
   ]
  },
  {
   "cell_type": "code",
   "execution_count": 59,
   "metadata": {},
   "outputs": [
    {
     "name": "stdout",
     "output_type": "stream",
     "text": [
      "Training Score: 0.8123417114351497\n",
      "Test Score: 0.7239884115807448\n"
     ]
    }
   ],
   "source": [
    "rf3 = RandomForestClassifier(min_samples_split= 20, n_estimators=100,criterion = \"gini\")\n",
    "model3 = rf3.fit(x_train, y_train)\n",
    "\n",
    "model3.predict(x_test)\n",
    "print(\"Training Score: {}\".format(rf3.score(x_train, y_train)))\n",
    "print(\"Test Score: {}\".format(rf3.score(x_test, y_test)))"
   ]
  },
  {
   "cell_type": "code",
   "execution_count": 60,
   "metadata": {},
   "outputs": [],
   "source": [
    "hiper = {\"min_samples_split\": range(1,20), \"n_estimators\" : range(10,100,10),\n",
    "         \"criterion\" : [\"gini\",\"entropy\"]}\n",
    "rf_clf = RandomForestClassifier()\n",
    "rn_sr = RandomizedSearchCV(rf_clf,param_distributions = hiper,scoring='f1_micro',cv=5,n_jobs=-1)"
   ]
  },
  {
   "cell_type": "code",
   "execution_count": 61,
   "metadata": {},
   "outputs": [],
   "source": [
    "search = rn_sr.fit(x_train, y_train)"
   ]
  },
  {
   "cell_type": "code",
   "execution_count": 62,
   "metadata": {},
   "outputs": [
    {
     "data": {
      "text/plain": [
       "0.7199779355333844"
      ]
     },
     "execution_count": 62,
     "metadata": {},
     "output_type": "execute_result"
    }
   ],
   "source": [
    "search.best_score_"
   ]
  },
  {
   "cell_type": "code",
   "execution_count": 63,
   "metadata": {},
   "outputs": [
    {
     "data": {
      "text/plain": [
       "{'n_estimators': 50, 'min_samples_split': 15, 'criterion': 'gini'}"
      ]
     },
     "execution_count": 63,
     "metadata": {},
     "output_type": "execute_result"
    }
   ],
   "source": [
    "search.best_params_"
   ]
  },
  {
   "cell_type": "code",
   "execution_count": 64,
   "metadata": {},
   "outputs": [
    {
     "name": "stdout",
     "output_type": "stream",
     "text": [
      "Training Score: 0.8321709516500384\n",
      "Test Score: 0.7218779378753286\n"
     ]
    }
   ],
   "source": [
    "rf4 = RandomForestClassifier(min_samples_split= search.best_params_[\"min_samples_split\"],\n",
    "                             n_estimators=search.best_params_[\"n_estimators\"],\n",
    "                             criterion = search.best_params_[\"criterion\"])\n",
    "model4 = rf4.fit(x_train, y_train)\n",
    "\n",
    "model4.predict(x_test)\n",
    "print(\"Training Score: {}\".format(rf4.score(x_train, y_train)))\n",
    "print(\"Test Score: {}\".format(rf4.score(x_test, y_test)))"
   ]
  },
  {
   "cell_type": "code",
   "execution_count": 65,
   "metadata": {},
   "outputs": [],
   "source": [
    "hiper = {\"min_samples_split\": range(1,20), \"n_estimators\" : range(10,100,10),\n",
    "         \"criterion\" : [\"gini\",\"entropy\"]}\n",
    "rf_clf = RandomForestClassifier()\n",
    "gd_sr = GridSearchCV(rf_clf,param_grid=hiper,scoring='f1_micro',cv=5,n_jobs=-1)\n"
   ]
  },
  {
   "cell_type": "code",
   "execution_count": 66,
   "metadata": {},
   "outputs": [],
   "source": [
    "search = gd_sr.fit(x_train, y_train)"
   ]
  },
  {
   "cell_type": "code",
   "execution_count": 67,
   "metadata": {},
   "outputs": [
    {
     "data": {
      "text/plain": [
       "0.7219205679201842"
      ]
     },
     "execution_count": 67,
     "metadata": {},
     "output_type": "execute_result"
    }
   ],
   "source": [
    "search.best_score_"
   ]
  },
  {
   "cell_type": "code",
   "execution_count": 68,
   "metadata": {},
   "outputs": [
    {
     "data": {
      "text/plain": [
       "{'criterion': 'gini', 'min_samples_split': 10, 'n_estimators': 90}"
      ]
     },
     "execution_count": 68,
     "metadata": {},
     "output_type": "execute_result"
    }
   ],
   "source": [
    "search.best_params_"
   ]
  },
  {
   "cell_type": "code",
   "execution_count": 69,
   "metadata": {},
   "outputs": [
    {
     "name": "stdout",
     "output_type": "stream",
     "text": [
      "Training Score: 0.8663516884113585\n",
      "Test Score: 0.7240267838299342\n"
     ]
    }
   ],
   "source": [
    "rf5 = RandomForestClassifier(min_samples_split= search.best_params_[\"min_samples_split\"],\n",
    "                             n_estimators=search.best_params_[\"n_estimators\"],\n",
    "                             criterion = search.best_params_[\"criterion\"])\n",
    "model5 = rf5.fit(x_train, y_train)\n",
    "\n",
    "model5.predict(x_test)\n",
    "print(\"Training Score: {}\".format(rf5.score(x_train, y_train)))\n",
    "print(\"Test Score: {}\".format(rf5.score(x_test, y_test)))"
   ]
  },
  {
   "cell_type": "code",
   "execution_count": null,
   "metadata": {},
   "outputs": [],
   "source": []
  },
  {
   "cell_type": "code",
   "execution_count": null,
   "metadata": {},
   "outputs": [],
   "source": []
  },
  {
   "cell_type": "raw",
   "metadata": {},
   "source": []
  }
 ],
 "metadata": {
  "kernelspec": {
   "display_name": "Python 3",
   "language": "python",
   "name": "python3"
  },
  "language_info": {
   "codemirror_mode": {
    "name": "ipython",
    "version": 3
   },
   "file_extension": ".py",
   "mimetype": "text/x-python",
   "name": "python",
   "nbconvert_exporter": "python",
   "pygments_lexer": "ipython3",
   "version": "3.8.5"
  }
 },
 "nbformat": 4,
 "nbformat_minor": 4
}
