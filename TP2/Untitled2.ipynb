{
 "cells": [
  {
   "cell_type": "code",
   "execution_count": 2,
   "id": "02cf7fa2",
   "metadata": {},
   "outputs": [],
   "source": [
    "\n",
    "import pandas as pd\n",
    "import numpy as np\n",
    "import seaborn as sns\n",
    "import matplotlib.pyplot as plt \n",
    "from sklearn.model_selection import train_test_split\n",
    "from sklearn.inspection import permutation_importance\n",
    "from sklearn.neural_network import MLPClassifier\n",
    "from sklearn.model_selection import RandomizedSearchCV\n",
    "from sklearn.model_selection import GridSearchCV\n",
    "from sklearn import preprocessing\n",
    "\n",
    "from sklearn.ensemble import RandomForestClassifier"
   ]
  },
  {
   "cell_type": "code",
   "execution_count": 3,
   "id": "64bf7c75",
   "metadata": {},
   "outputs": [],
   "source": [
    "train_values = pd.read_csv('train_values.csv', dtype= {'building_id': np.int32,\\\n",
    "                                              'geo_level_1_id': np.int8,\\\n",
    "                                              'geo_level_2_id': np.int16,\\\n",
    "                                              'geo_level_3_id': np.int16,\\\n",
    "                                              'count_floors_pre_eq': np.int16,\\\n",
    "                                              'age': np.int16,\\\n",
    "                                              'area_percentage': np.int8,\\\n",
    "                                              'height_percentage': np.int8,\\\n",
    "                                              'land_surface_condition': 'category',\\\n",
    "                                              'foundation_type': 'category',\\\n",
    "                                              'roof_type': 'category',\\\n",
    "                                              'ground_floor_type':'category',\\\n",
    "                                              'other_floor_type': 'category',\\\n",
    "                                              'position': 'category',\\\n",
    "                                              'plan_configuration':'category',\\\n",
    "                                              'has_superstructure_adobe_mud':'boolean',\\\n",
    "                                              'has_superstructure_mud_mortar_stone':'boolean',\\\n",
    "                                              'has_superstructure_stone_flag':'boolean',\\\n",
    "                                              'has_superstructure_cement_mortar_stone':'boolean',\\\n",
    "                                              'has_superstructure_mud_mortar_brick':'boolean',\\\n",
    "                                              'has_superstructure_cement_mortar_brick':'boolean',\\\n",
    "                                              'has_superstructure_timber':'boolean',\\\n",
    "                                              'has_superstructure_bamboo':'boolean',\\\n",
    "                                              'has_superstructure_rc_non_engineered':'boolean',\\\n",
    "                                              'has_superstructure_rc_engineered':'boolean',\\\n",
    "                                              'has_superstructure_other':'boolean',\\\n",
    "                                              'legal_ownership_status':'category',\\\n",
    "                                              'count_families': np.int16,\\\n",
    "                                              'has_secondary_use':'boolean',\\\n",
    "                                              'has_secondary_use_agriculture':'boolean',\\\n",
    "                                              'has_secondary_use_hotel':'boolean',\\\n",
    "                                              'has_secondary_use_rental':'boolean',\\\n",
    "                                              'has_secondary_use_institution':'boolean',\\\n",
    "                                              'has_secondary_use_school':'boolean',\\\n",
    "                                              'has_secondary_use_industry':'boolean',\\\n",
    "                                              'has_secondary_use_health_post':'boolean',\\\n",
    "                                              'has_secondary_use_gov_office':'boolean',\\\n",
    "                                              'has_secondary_use_use_police':'boolean',\\\n",
    "                                              'has_secondary_use_other':'boolean'\n",
    "                                              })\n",
    "train_labels = pd.read_csv(\"train_labels.csv\")\n",
    "test_values = pd.read_csv(\"test_values.csv\")"
   ]
  },
  {
   "cell_type": "code",
   "execution_count": 5,
   "id": "89b9d93e",
   "metadata": {},
   "outputs": [],
   "source": [
    "df = train_values.set_index(\"building_id\").loc[:,[\"count_floors_pre_eq\",\"count_families\"]]"
   ]
  },
  {
   "cell_type": "code",
   "execution_count": 6,
   "id": "887252c4",
   "metadata": {},
   "outputs": [],
   "source": [
    "#normalize for nn\n",
    "x = df.values #returns a numpy array\n",
    "min_max_scaler = preprocessing.MinMaxScaler()\n",
    "x_scaled = min_max_scaler.fit_transform(x)\n",
    "df = pd.DataFrame(x_scaled,columns = df.columns,index = df.index)"
   ]
  },
  {
   "cell_type": "code",
   "execution_count": 7,
   "id": "dfd8e56d",
   "metadata": {},
   "outputs": [],
   "source": [
    "df2 = train_values.merge(df, on = \"building_id\")"
   ]
  },
  {
   "cell_type": "code",
   "execution_count": 12,
   "id": "a63503f5",
   "metadata": {},
   "outputs": [
    {
     "data": {
      "text/plain": [
       "Index(['building_id', 'geo_level_1_id', 'geo_level_2_id', 'geo_level_3_id',\n",
       "       'count_floors_pre_eq_x', 'age', 'area_percentage', 'height_percentage',\n",
       "       'has_superstructure_adobe_mud', 'has_superstructure_mud_mortar_stone',\n",
       "       'has_superstructure_stone_flag',\n",
       "       'has_superstructure_cement_mortar_stone',\n",
       "       'has_superstructure_mud_mortar_brick',\n",
       "       'has_superstructure_cement_mortar_brick', 'has_superstructure_timber',\n",
       "       'has_superstructure_bamboo', 'has_superstructure_rc_non_engineered',\n",
       "       'has_superstructure_rc_engineered', 'has_superstructure_other',\n",
       "       'count_families_x', 'has_secondary_use',\n",
       "       'has_secondary_use_agriculture', 'has_secondary_use_hotel',\n",
       "       'has_secondary_use_rental', 'has_secondary_use_institution',\n",
       "       'has_secondary_use_school', 'has_secondary_use_industry',\n",
       "       'has_secondary_use_health_post', 'has_secondary_use_gov_office',\n",
       "       'has_secondary_use_use_police', 'has_secondary_use_other',\n",
       "       'count_floors_pre_eq_y', 'count_families_y', 'land_surface_condition_n',\n",
       "       'land_surface_condition_o', 'land_surface_condition_t',\n",
       "       'foundation_type_h', 'foundation_type_i', 'foundation_type_r',\n",
       "       'foundation_type_u', 'foundation_type_w', 'roof_type_n', 'roof_type_q',\n",
       "       'roof_type_x', 'ground_floor_type_f', 'ground_floor_type_m',\n",
       "       'ground_floor_type_v', 'ground_floor_type_x', 'ground_floor_type_z',\n",
       "       'other_floor_type_j', 'other_floor_type_q', 'other_floor_type_s',\n",
       "       'other_floor_type_x', 'position_j', 'position_o', 'position_s',\n",
       "       'position_t', 'plan_configuration_a', 'plan_configuration_c',\n",
       "       'plan_configuration_d', 'plan_configuration_f', 'plan_configuration_m',\n",
       "       'plan_configuration_n', 'plan_configuration_o', 'plan_configuration_q',\n",
       "       'plan_configuration_s', 'plan_configuration_u',\n",
       "       'legal_ownership_status_a', 'legal_ownership_status_r',\n",
       "       'legal_ownership_status_v', 'legal_ownership_status_w'],\n",
       "      dtype='object')"
      ]
     },
     "execution_count": 12,
     "metadata": {},
     "output_type": "execute_result"
    }
   ],
   "source": [
    "df2.columns\n"
   ]
  },
  {
   "cell_type": "code",
   "execution_count": 13,
   "id": "867f253d",
   "metadata": {},
   "outputs": [],
   "source": [
    "columns_importances =[\"geo_level_1_id\",\n",
    "                      \"geo_level_2_id\",\n",
    "                      \"has_superstructure_mud_mortar_stone\",\n",
    "                      \"geo_level_3_id\",\n",
    "                      \"foundation_type_r\",\n",
    "                      \"has_superstructure_cement_mortar_brick\",\n",
    "                      \"other_floor_type_q\",\n",
    "                      \"age\",\n",
    "                      \"foundation_type_i\",\n",
    "                      \"has_superstructure_timber\",\n",
    "                      \"roof_type_n\",\n",
    "                      'roof_type_x',\n",
    "                      'has_superstructure_mud_mortar_brick',\n",
    "                      'position_s',\n",
    "                      'ground_floor_type_f',\n",
    "                      'other_floor_type_x',\n",
    "                      'has_superstructure_adobe_mud',\n",
    "                      'ground_floor_type_v',\n",
    "                      'roof_type_q',\n",
    "                      'has_secondary_use',\n",
    "                      'foundation_type_u',\n",
    "                      'land_surface_condition_t',\n",
    "                      'count_families_x',\n",
    "                      'building_id']"
   ]
  },
  {
   "cell_type": "code",
   "execution_count": 14,
   "id": "4892c20d",
   "metadata": {},
   "outputs": [],
   "source": [
    "df2 = pd.get_dummies(df2)\n",
    "df3 = df2.loc[:,columns_importances]"
   ]
  },
  {
   "cell_type": "code",
   "execution_count": 15,
   "id": "4301b729",
   "metadata": {},
   "outputs": [],
   "source": [
    "x_pre = df3.set_index('building_id')\n",
    "y_pre = train_labels.loc[:,'damage_grade']\n",
    "\n",
    "x = x_pre\n",
    "y = y_pre\n",
    "x_train, x_test, y_train, y_test = train_test_split(x, y, test_size = 0.2, random_state = 23)"
   ]
  },
  {
   "cell_type": "code",
   "execution_count": 18,
   "id": "278d35ac",
   "metadata": {},
   "outputs": [],
   "source": [
    "hiper = {\"hidden_layer_sizes\" : [10,20,30,40,50,100,200], \n",
    "         \"activation\": [\"tanh\", \"relu\"],\n",
    "        \"solver\": [\"sgd\",\"adam\"],\n",
    "        \"learning_rate\":['constant', \"invscaling\", \"adaptive\"],\n",
    "         \"max_iter\":[500]}\n",
    "nn_mlp = MLPClassifier()\n",
    "rn_sr = RandomizedSearchCV(nn_mlp,param_distributions = hiper, scoring = 'f1_micro',cv=5,n_jobs=-1)"
   ]
  },
  {
   "cell_type": "code",
   "execution_count": null,
   "id": "a9751bf9",
   "metadata": {},
   "outputs": [],
   "source": [
    "rn_sr.fit(x_train, y_train)"
   ]
  },
  {
   "cell_type": "code",
   "execution_count": null,
   "id": "7e03a094",
   "metadata": {},
   "outputs": [],
   "source": [
    "print(gd_sr.best_score_)\n",
    "bst_parms = gd_sr.best_params_\n",
    "print(bst_parms)"
   ]
  },
  {
   "cell_type": "code",
   "execution_count": null,
   "id": "c9f9de66",
   "metadata": {},
   "outputs": [],
   "source": [
    "mlp_class = MLPClassifier(hidden_layer_sizes = bst_parms[\"hidden_layer_sizes\"],\n",
    "                         activation = bst_parms[\"activation\"],\n",
    "                         solver = bst_parms[\"solver\"],\n",
    "                         learning_rate = bst_parms[\"learning_rate\"])\n",
    "model0 = mlp_class.fit(x_train, y_train)\n",
    "\n",
    "model0.predict(x_test)\n",
    "print(\"Training Score: {}\".format(mlp_class.score(x_train, y_train)))\n",
    "print(\"Test Score: {}\".format(mlp_class.score(x_test, y_test)))"
   ]
  },
  {
   "cell_type": "code",
   "execution_count": null,
   "id": "313e8dc7",
   "metadata": {},
   "outputs": [],
   "source": [
    "df3[\"first_prediction\"] = model0.predict(df3.set_index(\"building_id\"))"
   ]
  },
  {
   "cell_type": "code",
   "execution_count": null,
   "id": "6be4e72a",
   "metadata": {},
   "outputs": [],
   "source": [
    "x_pre = df3.set_index('building_id')\n",
    "y_pre = train_labels.loc[:,'damage_grade']\n",
    "\n",
    "x = x_pre\n",
    "y = y_pre\n",
    "x_train, x_test, y_train, y_test = train_test_split(x, y, test_size = 0.2, random_state = 42)"
   ]
  },
  {
   "cell_type": "code",
   "execution_count": null,
   "id": "30ee74e3",
   "metadata": {},
   "outputs": [],
   "source": [
    "rf = RandomForestClassifier(n_estimators =  500,\n",
    "                            min_samples_split =  20,\n",
    "                            criterion = \"gini\")\n",
    "model1 = rf.fit(x_train, y_train)\n",
    "\n",
    "model1.predict(x_test)\n",
    "print(\"Training Score: {}\".format(rf.score(x_train, y_train)))\n",
    "print(\"Test Score: {}\".format(rf.score(x_test, y_test)))"
   ]
  }
 ],
 "metadata": {
  "kernelspec": {
   "display_name": "Python 3",
   "language": "python",
   "name": "python3"
  },
  "language_info": {
   "codemirror_mode": {
    "name": "ipython",
    "version": 3
   },
   "file_extension": ".py",
   "mimetype": "text/x-python",
   "name": "python",
   "nbconvert_exporter": "python",
   "pygments_lexer": "ipython3",
   "version": "3.8.10"
  }
 },
 "nbformat": 4,
 "nbformat_minor": 5
}
